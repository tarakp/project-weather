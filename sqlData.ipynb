{
 "metadata": {
  "language_info": {
   "codemirror_mode": {
    "name": "ipython",
    "version": 3
   },
   "file_extension": ".py",
   "mimetype": "text/x-python",
   "name": "python",
   "nbconvert_exporter": "python",
   "pygments_lexer": "ipython3",
   "version": "3.7.9"
  },
  "orig_nbformat": 4,
  "kernelspec": {
   "name": "python3",
   "display_name": "Python 3.7.9 64-bit ('PythonData': conda)"
  },
  "interpreter": {
   "hash": "ac5a4a8be39a6f36cb398e11c49d1d11aa42d9028028208279e8ac6ab225301c"
  }
 },
 "nbformat": 4,
 "nbformat_minor": 2,
 "cells": [
  {
   "cell_type": "code",
   "execution_count": 160,
   "metadata": {},
   "outputs": [],
   "source": [
    "import pandas as pd \n",
    "import json\n",
    "import requests\n",
    "import numpy as np\n",
    "import time\n",
    "from splinter import Browser\n",
    "from bs4 import BeautifulSoup\n"
   ]
  },
  {
   "cell_type": "code",
   "execution_count": 161,
   "metadata": {},
   "outputs": [
    {
     "output_type": "execute_result",
     "data": {
      "text/plain": [
       "'https://api.weather.gov/gridpoints/TWC/91,26'"
      ]
     },
     "metadata": {},
     "execution_count": 161
    }
   ],
   "source": [
    "# Pull metadata for Bog Springs Campgraound\n",
    "bs_url = \"https://api.weather.gov/points/31.7276,-110.8754\"\n",
    "response_bs = requests.get(bs_url)\n",
    "data_bs = response_bs.json()\n",
    "data_bs\n",
    "grid_data_bs = data_bs[\"properties\"][\"forecastGridData\"]\n",
    "grid_data_bs\n"
   ]
  },
  {
   "cell_type": "code",
   "execution_count": 162,
   "metadata": {
    "tags": []
   },
   "outputs": [
    {
     "output_type": "execute_result",
     "data": {
      "text/plain": [
       "   id   campground        lat         lon  elevation  \\\n",
       "0   1  Bog Springs  31.739186 -110.889864  1502.9688   \n",
       "\n",
       "                                       nws_meta_url  \\\n",
       "0  https://api.weather.gov/points/31.7276,-110.8754   \n",
       "\n",
       "                                   nws_grid_url  \\\n",
       "0  https://api.weather.gov/gridpoints/TWC/91,26   \n",
       "\n",
       "                                       nws_meta_json  \\\n",
       "0  {'@context': ['https://geojson.org/geojson-ld/...   \n",
       "\n",
       "                                       nws_grid_json fire_danger  \\\n",
       "0  {'@context': ['https://geojson.org/geojson-ld/...   Very High   \n",
       "\n",
       "                                  forest_service_url  \\\n",
       "0  https://www.fs.usda.gov/recarea/coronado/recre...   \n",
       "\n",
       "                                  campsite_image_url  \\\n",
       "0  https://www.fs.usda.gov/Internet/FSE_MEDIA/fse...   \n",
       "\n",
       "                                            map_code  \n",
       "0  <iframe src=\"https://www.google.com/maps/embed...  "
      ],
      "text/html": "<div>\n<style scoped>\n    .dataframe tbody tr th:only-of-type {\n        vertical-align: middle;\n    }\n\n    .dataframe tbody tr th {\n        vertical-align: top;\n    }\n\n    .dataframe thead th {\n        text-align: right;\n    }\n</style>\n<table border=\"1\" class=\"dataframe\">\n  <thead>\n    <tr style=\"text-align: right;\">\n      <th></th>\n      <th>id</th>\n      <th>campground</th>\n      <th>lat</th>\n      <th>lon</th>\n      <th>elevation</th>\n      <th>nws_meta_url</th>\n      <th>nws_grid_url</th>\n      <th>nws_meta_json</th>\n      <th>nws_grid_json</th>\n      <th>fire_danger</th>\n      <th>forest_service_url</th>\n      <th>campsite_image_url</th>\n      <th>map_code</th>\n    </tr>\n  </thead>\n  <tbody>\n    <tr>\n      <th>0</th>\n      <td>1</td>\n      <td>Bog Springs</td>\n      <td>31.739186</td>\n      <td>-110.889864</td>\n      <td>1502.9688</td>\n      <td>https://api.weather.gov/points/31.7276,-110.8754</td>\n      <td>https://api.weather.gov/gridpoints/TWC/91,26</td>\n      <td>{'@context': ['https://geojson.org/geojson-ld/...</td>\n      <td>{'@context': ['https://geojson.org/geojson-ld/...</td>\n      <td>Very High</td>\n      <td>https://www.fs.usda.gov/recarea/coronado/recre...</td>\n      <td>https://www.fs.usda.gov/Internet/FSE_MEDIA/fse...</td>\n      <td>&lt;iframe src=\"https://www.google.com/maps/embed...</td>\n    </tr>\n  </tbody>\n</table>\n</div>"
     },
     "metadata": {},
     "execution_count": 162
    }
   ],
   "source": [
    "# Pull Forecast Grid data for BogSprings Campground\n",
    "bs_forcast_url = grid_data_bs\n",
    "response_bs_forecast = requests.get(bs_forcast_url)\n",
    "data_bs_forecast = response_bs_forecast.json()\n",
    "\n",
    "data_bs_forecast\n",
    "lat_bs = data_bs_forecast[\"geometry\"][\"coordinates\"][0][0][1]\n",
    "lat_bs\n",
    "lng_bs = data_bs_forecast[\"geometry\"][\"coordinates\"][0][0][0]\n",
    "lng_bs\n",
    "elevation_bs = data_bs_forecast[\"properties\"][\"elevation\"][\"value\"]\n",
    "elevation_bs\n",
    "\n",
    "# Create a Dataframe for Bog Springs Campground\n",
    "bs_df = pd.DataFrame({\"id\": 1,\n",
    "              \"campground\": \"Bog Springs\",\n",
    "              \"lat\": [lat_bs],\n",
    "              \"lon\": [lng_bs],\n",
    "              \"elevation\": [elevation_bs],\n",
    "              \"nws_meta_url\": [bs_url],\n",
    "              \"nws_grid_url\": [grid_data_bs],\n",
    "              \"nws_meta_json\":[data_bs],\n",
    "              \"nws_grid_json\": [data_bs_forecast],\n",
    "              \"fire_danger\": \"Very High\",\n",
    "              \"forest_service_url\":\"https://www.fs.usda.gov/recarea/coronado/recreation/camping-cabins/recarea/?recid=25732&actid=29\",\n",
    "              \"campsite_image_url\": \"https://www.fs.usda.gov/Internet/FSE_MEDIA/fseprd746637.jpg\",\n",
    "              \"map_code\": '<iframe src=\"https://www.google.com/maps/embed?pb=!1m18!1m12!1m3!1d3393.5714340164473!2d-110.87758868361043!3d31.72759998130141!2m3!1f0!2f0!3f0!3m2!1i1024!2i768!4f13.1!3m3!1m2!1s0x86d6970db0a5e44d%3A0x1b48084e4d6db970!2sBog%20Springs%20Campground!5e0!3m2!1sen!2sus!4v1626560932236!5m2!1sen!2sus\" width=\"600\" height=\"450\" style=\"border:0;\" allowfullscreen=\"\" loading=\"lazy\"></iframe>' \n",
    "                    })\n",
    "bs_df\n"
   ]
  },
  {
   "cell_type": "code",
   "execution_count": 163,
   "metadata": {},
   "outputs": [
    {
     "output_type": "execute_result",
     "data": {
      "text/plain": [
       "'https://api.weather.gov/gridpoints/TWC/101,54'"
      ]
     },
     "metadata": {},
     "execution_count": 163
    }
   ],
   "source": [
    "# Pull metadata for Rose Canyon Campgraound\n",
    "rc_url = \"https://api.weather.gov/points/32.395,-110.6911\"\n",
    "response_rc = requests.get(rc_url)\n",
    "data_rc = response_rc.json()\n",
    "data_rc\n",
    "grid_data_rc = data_rc[\"properties\"][\"forecastGridData\"]\n",
    "grid_data_rc"
   ]
  },
  {
   "cell_type": "code",
   "execution_count": 164,
   "metadata": {},
   "outputs": [
    {
     "output_type": "execute_result",
     "data": {
      "text/plain": [
       "   id   campground        lat        lon  elevation  \\\n",
       "0   2  Rose Canyon  32.395779 -110.71132   2132.076   \n",
       "\n",
       "                                      nws_meta_url  \\\n",
       "0  https://api.weather.gov/points/32.395,-110.6911   \n",
       "\n",
       "                                    nws_grid_url  \\\n",
       "0  https://api.weather.gov/gridpoints/TWC/101,54   \n",
       "\n",
       "                                       nws_meta_json  \\\n",
       "0  {'@context': ['https://geojson.org/geojson-ld/...   \n",
       "\n",
       "                                       nws_grid_json fire_danger  \\\n",
       "0  {'@context': ['https://geojson.org/geojson-ld/...   Very High   \n",
       "\n",
       "                                  forest_service_url  \\\n",
       "0  https://www.fs.usda.gov/recarea/coronado/recre...   \n",
       "\n",
       "                                  campsite_image_url  \\\n",
       "0  https://cdn.recreation.gov/public/2019/06/20/0...   \n",
       "\n",
       "                                            map_code  \n",
       "0  <iframe src=\"https://www.google.com/maps/embed...  "
      ],
      "text/html": "<div>\n<style scoped>\n    .dataframe tbody tr th:only-of-type {\n        vertical-align: middle;\n    }\n\n    .dataframe tbody tr th {\n        vertical-align: top;\n    }\n\n    .dataframe thead th {\n        text-align: right;\n    }\n</style>\n<table border=\"1\" class=\"dataframe\">\n  <thead>\n    <tr style=\"text-align: right;\">\n      <th></th>\n      <th>id</th>\n      <th>campground</th>\n      <th>lat</th>\n      <th>lon</th>\n      <th>elevation</th>\n      <th>nws_meta_url</th>\n      <th>nws_grid_url</th>\n      <th>nws_meta_json</th>\n      <th>nws_grid_json</th>\n      <th>fire_danger</th>\n      <th>forest_service_url</th>\n      <th>campsite_image_url</th>\n      <th>map_code</th>\n    </tr>\n  </thead>\n  <tbody>\n    <tr>\n      <th>0</th>\n      <td>2</td>\n      <td>Rose Canyon</td>\n      <td>32.395779</td>\n      <td>-110.71132</td>\n      <td>2132.076</td>\n      <td>https://api.weather.gov/points/32.395,-110.6911</td>\n      <td>https://api.weather.gov/gridpoints/TWC/101,54</td>\n      <td>{'@context': ['https://geojson.org/geojson-ld/...</td>\n      <td>{'@context': ['https://geojson.org/geojson-ld/...</td>\n      <td>Very High</td>\n      <td>https://www.fs.usda.gov/recarea/coronado/recre...</td>\n      <td>https://cdn.recreation.gov/public/2019/06/20/0...</td>\n      <td>&lt;iframe src=\"https://www.google.com/maps/embed...</td>\n    </tr>\n  </tbody>\n</table>\n</div>"
     },
     "metadata": {},
     "execution_count": 164
    }
   ],
   "source": [
    "# Pull Forecast Grid data for Rose Canyon Campground\n",
    "rc_forcast_url = grid_data_rc\n",
    "response_rc_forecast = requests.get(rc_forcast_url)\n",
    "data_rc_forecast = response_rc_forecast.json()\n",
    "data_rc_forecast\n",
    "lat_rc = data_rc_forecast[\"geometry\"][\"coordinates\"][0][0][1]\n",
    "lat_rc\n",
    "lng_rc = data_rc_forecast[\"geometry\"][\"coordinates\"][0][0][0]\n",
    "lng_rc\n",
    "elevation_rc = data_rc_forecast[\"properties\"][\"elevation\"][\"value\"]\n",
    "elevation_rc\n",
    "\n",
    "# Create a Dataframe for Rose Canyon Campground\n",
    "rc_df = pd.DataFrame({\"id\": 2,\n",
    "              \"campground\": \"Rose Canyon\",\n",
    "              \"lat\": [lat_rc],\n",
    "              \"lon\": [lng_rc],\n",
    "              \"elevation\": [elevation_rc],\n",
    "              \"nws_meta_url\": [rc_url],\n",
    "              \"nws_grid_url\": [grid_data_rc],\n",
    "              \"nws_meta_json\":[data_rc],\n",
    "              \"nws_grid_json\": [data_rc_forecast],\n",
    "              \"fire_danger\": \"Very High\",\n",
    "              \"forest_service_url\":\"https://www.fs.usda.gov/recarea/coronado/recreation/camping-cabins/recarea/?recid=25698&actid=29\",\n",
    "              \"campsite_image_url\": \"https://cdn.recreation.gov/public/2019/06/20/00/19/232284_beeddff5-c966-49e2-93a8-c63c1cf21294_700.jpg\",\n",
    "              \"map_code\": '<iframe src=\"https://www.google.com/maps/embed?pb=!1m18!1m12!1m3!1d3368.97130566869!2d-110.70672358360277!3d32.39313088108983!2m3!1f0!2f0!3f0!3m2!1i1024!2i768!4f13.1!3m3!1m2!1s0x86d6400421614087%3A0xb6cfb84a4b05c95b!2sRose%20Canyon%20Campground!5e0!3m2!1sen!2sus!4v1626560965073!5m2!1sen!2sus\" width=\"600\" height=\"450\" style=\"border:0;\" allowfullscreen=\"\" loading=\"lazy\"></iframe>' \n",
    "                    })\n",
    "rc_df\n",
    "\n"
   ]
  },
  {
   "cell_type": "code",
   "execution_count": 165,
   "metadata": {},
   "outputs": [
    {
     "output_type": "execute_result",
     "data": {
      "text/plain": [
       "'https://api.weather.gov/gridpoints/TWC/100,56'"
      ]
     },
     "metadata": {},
     "execution_count": 165
    }
   ],
   "source": [
    "# Pull metadata for Spencer Canyon Campgraound\n",
    "sc_url = \"https://api.weather.gov/points/32.4186,-110.7383\"\n",
    "response_sc = requests.get(sc_url)\n",
    "data_sc = response_sc.json()\n",
    "data_sc\n",
    "grid_data_sc = data_sc[\"properties\"][\"forecastGridData\"]\n",
    "grid_data_sc"
   ]
  },
  {
   "cell_type": "code",
   "execution_count": 166,
   "metadata": {},
   "outputs": [
    {
     "output_type": "execute_result",
     "data": {
      "text/plain": [
       "   id      campground        lat         lon  elevation  \\\n",
       "0   3  Spencer Canyon  32.438137 -110.744165   2193.036   \n",
       "\n",
       "                                       nws_meta_url  \\\n",
       "0  https://api.weather.gov/points/32.4186,-110.7383   \n",
       "\n",
       "                                    nws_grid_url  \\\n",
       "0  https://api.weather.gov/gridpoints/TWC/100,56   \n",
       "\n",
       "                                       nws_meta_json  \\\n",
       "0  {'@context': ['https://geojson.org/geojson-ld/...   \n",
       "\n",
       "                                       nws_grid_json fire_danger  \\\n",
       "0  {'@context': ['https://geojson.org/geojson-ld/...   Very High   \n",
       "\n",
       "                                  forest_service_url  \\\n",
       "0  https://www.fs.usda.gov/recarea/coronado/recre...   \n",
       "\n",
       "                                  campsite_image_url  \\\n",
       "0  https://www.fs.usda.gov/Internet/FSE_MEDIA/fse...   \n",
       "\n",
       "                                            map_code  \n",
       "0  <iframe src=\"https://www.google.com/maps/embed...  "
      ],
      "text/html": "<div>\n<style scoped>\n    .dataframe tbody tr th:only-of-type {\n        vertical-align: middle;\n    }\n\n    .dataframe tbody tr th {\n        vertical-align: top;\n    }\n\n    .dataframe thead th {\n        text-align: right;\n    }\n</style>\n<table border=\"1\" class=\"dataframe\">\n  <thead>\n    <tr style=\"text-align: right;\">\n      <th></th>\n      <th>id</th>\n      <th>campground</th>\n      <th>lat</th>\n      <th>lon</th>\n      <th>elevation</th>\n      <th>nws_meta_url</th>\n      <th>nws_grid_url</th>\n      <th>nws_meta_json</th>\n      <th>nws_grid_json</th>\n      <th>fire_danger</th>\n      <th>forest_service_url</th>\n      <th>campsite_image_url</th>\n      <th>map_code</th>\n    </tr>\n  </thead>\n  <tbody>\n    <tr>\n      <th>0</th>\n      <td>3</td>\n      <td>Spencer Canyon</td>\n      <td>32.438137</td>\n      <td>-110.744165</td>\n      <td>2193.036</td>\n      <td>https://api.weather.gov/points/32.4186,-110.7383</td>\n      <td>https://api.weather.gov/gridpoints/TWC/100,56</td>\n      <td>{'@context': ['https://geojson.org/geojson-ld/...</td>\n      <td>{'@context': ['https://geojson.org/geojson-ld/...</td>\n      <td>Very High</td>\n      <td>https://www.fs.usda.gov/recarea/coronado/recre...</td>\n      <td>https://www.fs.usda.gov/Internet/FSE_MEDIA/fse...</td>\n      <td>&lt;iframe src=\"https://www.google.com/maps/embed...</td>\n    </tr>\n  </tbody>\n</table>\n</div>"
     },
     "metadata": {},
     "execution_count": 166
    }
   ],
   "source": [
    "# Pull Forecast Grid data for Spencer Canyon Campground\n",
    "sc_forcast_url = grid_data_sc\n",
    "response_sc_forecast = requests.get(sc_forcast_url)\n",
    "data_sc_forecast = response_sc_forecast.json()\n",
    "data_sc_forecast\n",
    "lat_sc = data_sc_forecast[\"geometry\"][\"coordinates\"][0][0][1]\n",
    "lat_sc\n",
    "lng_sc = data_sc_forecast[\"geometry\"][\"coordinates\"][0][0][0]\n",
    "lng_sc\n",
    "elevation_sc = data_sc_forecast[\"properties\"][\"elevation\"][\"value\"]\n",
    "elevation_sc\n",
    "\n",
    "# Create a Dataframe for Spencer Canyon Campground\n",
    "sc_df = pd.DataFrame({\"id\": 3,\n",
    "              \"campground\": \"Spencer Canyon\",\n",
    "              \"lat\": [lat_sc],\n",
    "              \"lon\": [lng_sc],\n",
    "              \"elevation\": [elevation_sc],\n",
    "              \"nws_meta_url\": [sc_url],\n",
    "              \"nws_grid_url\": [grid_data_sc],\n",
    "              \"nws_meta_json\":[data_sc],\n",
    "              \"nws_grid_json\": [data_sc_forecast],\n",
    "              \"fire_danger\": \"Very High\",\n",
    "              \"forest_service_url\":\"https://www.fs.usda.gov/recarea/coronado/recreation/camping-cabins/recarea/?recid=25710&actid=29\",\n",
    "              \"campsite_image_url\": \"https://www.fs.usda.gov/Internet/FSE_MEDIA/fseprd746608.jpg\",\n",
    "              \"map_code\": '<iframe src=\"https://www.google.com/maps/embed?pb=!1m18!1m12!1m3!1d3368.0814680369876!2d-110.74302428360251!3d32.41697578108229!2m3!1f0!2f0!3f0!3m2!1i1024!2i768!4f13.1!3m3!1m2!1s0x86d61515ca1f56fd%3A0x242e26b2f2f72242!2sSpencer%20Canyon%20Campground!5e0!3m2!1sen!2sus!4v1626560995515!5m2!1sen!2sus\" width=\"600\" height=\"450\" style=\"border:0;\" allowfullscreen=\"\" loading=\"lazy\"></iframe>' \n",
    "                    })\n",
    "sc_df\n"
   ]
  },
  {
   "cell_type": "code",
   "execution_count": 167,
   "metadata": {},
   "outputs": [
    {
     "output_type": "execute_result",
     "data": {
      "text/plain": [
       "        campground        lat         lon  elevation  \\\n",
       "id                                                     \n",
       "1      Bog Springs  31.739186 -110.889864  1502.9688   \n",
       "2      Rose Canyon  32.395779 -110.711320  2132.0760   \n",
       "3   Spencer Canyon  32.438137 -110.744165  2193.0360   \n",
       "\n",
       "                                        nws_meta_url  \\\n",
       "id                                                     \n",
       "1   https://api.weather.gov/points/31.7276,-110.8754   \n",
       "2    https://api.weather.gov/points/32.395,-110.6911   \n",
       "3   https://api.weather.gov/points/32.4186,-110.7383   \n",
       "\n",
       "                                     nws_grid_url  \\\n",
       "id                                                  \n",
       "1    https://api.weather.gov/gridpoints/TWC/91,26   \n",
       "2   https://api.weather.gov/gridpoints/TWC/101,54   \n",
       "3   https://api.weather.gov/gridpoints/TWC/100,56   \n",
       "\n",
       "                                        nws_meta_json  \\\n",
       "id                                                      \n",
       "1   {'@context': ['https://geojson.org/geojson-ld/...   \n",
       "2   {'@context': ['https://geojson.org/geojson-ld/...   \n",
       "3   {'@context': ['https://geojson.org/geojson-ld/...   \n",
       "\n",
       "                                        nws_grid_json fire_danger  \\\n",
       "id                                                                  \n",
       "1   {'@context': ['https://geojson.org/geojson-ld/...   Very High   \n",
       "2   {'@context': ['https://geojson.org/geojson-ld/...   Very High   \n",
       "3   {'@context': ['https://geojson.org/geojson-ld/...   Very High   \n",
       "\n",
       "                                   forest_service_url  \\\n",
       "id                                                      \n",
       "1   https://www.fs.usda.gov/recarea/coronado/recre...   \n",
       "2   https://www.fs.usda.gov/recarea/coronado/recre...   \n",
       "3   https://www.fs.usda.gov/recarea/coronado/recre...   \n",
       "\n",
       "                                   campsite_image_url  \\\n",
       "id                                                      \n",
       "1   https://www.fs.usda.gov/Internet/FSE_MEDIA/fse...   \n",
       "2   https://cdn.recreation.gov/public/2019/06/20/0...   \n",
       "3   https://www.fs.usda.gov/Internet/FSE_MEDIA/fse...   \n",
       "\n",
       "                                             map_code  \n",
       "id                                                     \n",
       "1   <iframe src=\"https://www.google.com/maps/embed...  \n",
       "2   <iframe src=\"https://www.google.com/maps/embed...  \n",
       "3   <iframe src=\"https://www.google.com/maps/embed...  "
      ],
      "text/html": "<div>\n<style scoped>\n    .dataframe tbody tr th:only-of-type {\n        vertical-align: middle;\n    }\n\n    .dataframe tbody tr th {\n        vertical-align: top;\n    }\n\n    .dataframe thead th {\n        text-align: right;\n    }\n</style>\n<table border=\"1\" class=\"dataframe\">\n  <thead>\n    <tr style=\"text-align: right;\">\n      <th></th>\n      <th>campground</th>\n      <th>lat</th>\n      <th>lon</th>\n      <th>elevation</th>\n      <th>nws_meta_url</th>\n      <th>nws_grid_url</th>\n      <th>nws_meta_json</th>\n      <th>nws_grid_json</th>\n      <th>fire_danger</th>\n      <th>forest_service_url</th>\n      <th>campsite_image_url</th>\n      <th>map_code</th>\n    </tr>\n    <tr>\n      <th>id</th>\n      <th></th>\n      <th></th>\n      <th></th>\n      <th></th>\n      <th></th>\n      <th></th>\n      <th></th>\n      <th></th>\n      <th></th>\n      <th></th>\n      <th></th>\n      <th></th>\n    </tr>\n  </thead>\n  <tbody>\n    <tr>\n      <th>1</th>\n      <td>Bog Springs</td>\n      <td>31.739186</td>\n      <td>-110.889864</td>\n      <td>1502.9688</td>\n      <td>https://api.weather.gov/points/31.7276,-110.8754</td>\n      <td>https://api.weather.gov/gridpoints/TWC/91,26</td>\n      <td>{'@context': ['https://geojson.org/geojson-ld/...</td>\n      <td>{'@context': ['https://geojson.org/geojson-ld/...</td>\n      <td>Very High</td>\n      <td>https://www.fs.usda.gov/recarea/coronado/recre...</td>\n      <td>https://www.fs.usda.gov/Internet/FSE_MEDIA/fse...</td>\n      <td>&lt;iframe src=\"https://www.google.com/maps/embed...</td>\n    </tr>\n    <tr>\n      <th>2</th>\n      <td>Rose Canyon</td>\n      <td>32.395779</td>\n      <td>-110.711320</td>\n      <td>2132.0760</td>\n      <td>https://api.weather.gov/points/32.395,-110.6911</td>\n      <td>https://api.weather.gov/gridpoints/TWC/101,54</td>\n      <td>{'@context': ['https://geojson.org/geojson-ld/...</td>\n      <td>{'@context': ['https://geojson.org/geojson-ld/...</td>\n      <td>Very High</td>\n      <td>https://www.fs.usda.gov/recarea/coronado/recre...</td>\n      <td>https://cdn.recreation.gov/public/2019/06/20/0...</td>\n      <td>&lt;iframe src=\"https://www.google.com/maps/embed...</td>\n    </tr>\n    <tr>\n      <th>3</th>\n      <td>Spencer Canyon</td>\n      <td>32.438137</td>\n      <td>-110.744165</td>\n      <td>2193.0360</td>\n      <td>https://api.weather.gov/points/32.4186,-110.7383</td>\n      <td>https://api.weather.gov/gridpoints/TWC/100,56</td>\n      <td>{'@context': ['https://geojson.org/geojson-ld/...</td>\n      <td>{'@context': ['https://geojson.org/geojson-ld/...</td>\n      <td>Very High</td>\n      <td>https://www.fs.usda.gov/recarea/coronado/recre...</td>\n      <td>https://www.fs.usda.gov/Internet/FSE_MEDIA/fse...</td>\n      <td>&lt;iframe src=\"https://www.google.com/maps/embed...</td>\n    </tr>\n  </tbody>\n</table>\n</div>"
     },
     "metadata": {},
     "execution_count": 167
    }
   ],
   "source": [
    "df = pd.concat([bs_df, rc_df, sc_df])\n",
    "\n",
    "df.to_csv('finaldf.csv')\n",
    "df.set_index('id')"
   ]
  }
 ]
}